{
 "cells": [
  {
   "cell_type": "code",
   "execution_count": 1,
   "id": "e47c2563",
   "metadata": {},
   "outputs": [],
   "source": [
    "import cv2\n",
    "\n",
    "face_cascade = cv2.CascadeClassifier('haarcascade_frontalface_default.xml')\n",
    "\n",
    "cap = cv2.VideoCapture(0)\n",
    "\n",
    "while True :\n",
    "    c=0\n",
    "    _,img = cap.read()\n",
    "    gray = cv2.cvtColor(img,cv2.COLOR_BGR2GRAY)\n",
    "    faces = face_cascade.detectMultiScale(gray,1.1,4)\n",
    "    for(x,y,w,h) in faces : \n",
    "        \n",
    "        cv2.rectangle(img,(x,y),(x+w,y+h),(0,253,255), 2)\n",
    "        c = c+1\n",
    "        cv2.putText(img,\"Face : \"+str(c),(x-12,y-12),cv2.FONT_HERSHEY_SIMPLEX,0.7,(0,253,255),2)\n",
    "\n",
    "    cv2.imshow('img',img)\n",
    "    \n",
    "    k = cv2.waitKey(30) & 0xff\n",
    "    if(k==27) :\n",
    "        break\n",
    "\n",
    "cap.release()"
   ]
  },
  {
   "cell_type": "code",
   "execution_count": null,
   "id": "ad063780",
   "metadata": {},
   "outputs": [],
   "source": []
  }
 ],
 "metadata": {
  "kernelspec": {
   "display_name": "Python 3 (ipykernel)",
   "language": "python",
   "name": "python3"
  },
  "language_info": {
   "codemirror_mode": {
    "name": "ipython",
    "version": 3
   },
   "file_extension": ".py",
   "mimetype": "text/x-python",
   "name": "python",
   "nbconvert_exporter": "python",
   "pygments_lexer": "ipython3",
   "version": "3.10.7"
  }
 },
 "nbformat": 4,
 "nbformat_minor": 5
}
